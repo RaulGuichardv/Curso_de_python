{
 "cells": [
  {
   "cell_type": "markdown",
   "metadata": {},
   "source": [
    "### Los tipos de datos basicos en Python son:\n",
    "Los tipos de datos en Python son las categorias que se les dan a los datos para que se puedan manipular y almacenar\n",
    "<br>\n",
    "\n",
    "- **Numeros**\n",
    "    - Enteros (int)\n",
    "    - Numeros flotantes decimales (float)\n",
    "    - Numeros conmplejos (complex)\n",
    "\n",
    "- **Cadenas de caracteres**\n",
    "    - Cadena de texto (str)\n",
    "\n",
    "- **Secuenciales**\n",
    "    - Listas (list)\n",
    "    - Tuplas (tuple)\n",
    "    - Range (range)\n",
    "\n",
    "- **Tipos binarios**\n",
    "    - Bytes (bytes)\n",
    "    - Bytearray (bytearray)\n",
    "\n",
    "- **Diccionarios**\n",
    "    - Diccionario (dirc)\n",
    "\n",
    "- **Tipos booleanos**\n",
    "    - Verdadero (True)\n",
    "    - Falso (False)\n",
    "\n",
    "- **Conjuntos**\n",
    "    - Conjunto (set)\n",
    "    - Conjunto inmutable (frozenset)\n",
    "\n",
    "    \n",
    " "
   ]
  }
 ],
 "metadata": {
  "language_info": {
   "name": "python"
  }
 },
 "nbformat": 4,
 "nbformat_minor": 2
}
