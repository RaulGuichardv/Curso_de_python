{
 "cells": [
  {
   "cell_type": "markdown",
   "metadata": {},
   "source": [
    "En Python, las variables son nombres que se asocian a un valor, y se crean cuando se les asigna un valor\n",
    "por primera vez. Para asignar un valor a una variable se usa el signo igual\n",
    "\n",
    "- **Sintaxis de la asignacion**\n",
    "\n",
    "    - El nombre de la variable se escribe a la izquierda del signo igual\n",
    "    - El valor se le asigna a la derecha del signo igual\n",
    "\n",
    "- **Ejemplo**: variable = valor"
   ]
  }
 ],
 "metadata": {
  "language_info": {
   "name": "python"
  }
 },
 "nbformat": 4,
 "nbformat_minor": 2
}
