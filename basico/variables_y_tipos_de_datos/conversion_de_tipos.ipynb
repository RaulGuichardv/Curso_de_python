{
 "cells": [
  {
   "cell_type": "markdown",
   "metadata": {},
   "source": [
    "# Conversion de tipos de datos\n",
    "\n",
    "- **Como convertir tipos de numeros**\n",
    "    - **Convertir enteros en flotantes** <br>\n",
    "    Entrada:\n",
    "    `float(10)` <br>\n",
    "    Salida: \n",
    "    `10.0`\n",
    "\n",
    "    - **Convertir flotantes en enteros** <br>\n",
    "    Entrada:\n",
    "    `int(3.1415)` <br>\n",
    "    Salida: \n",
    "    `3`\n",
    "\n",
    "- **Como realizar conversiones con cadenas**\n",
    "    - **Convertir numeros en cadenas** <br>\n",
    "    Entrada:\n",
    "    `str(10)` <br>\n",
    "    Salida: \n",
    "    `\"10\"`\n",
    "\n",
    "    - **Convertir un numero a cadena** <br>\n",
    "    Entrada: \n",
    "    `int(\"10\")` <br>\n",
    "    Salida: \n",
    "    `10`\n",
    "\n",
    "- **Como convertir en tuplas y listas**\n",
    "    - **Convertir en tuplas** <br>\n",
    "    Entrada:\n",
    "    `tuple([1,2,3,4,5])` <br>\n",
    "    Salida:\n",
    "    `(1,2,3,4,5)`\n",
    "\n",
    "    - **Convertir en lista** <br>\n",
    "    Entrada:\n",
    "    `list((1,2,3,4,5))` <br>\n",
    "    Salida:\n",
    "    `[1,2,3,4,5]`\n"
   ]
  }
 ],
 "metadata": {
  "language_info": {
   "name": "python"
  }
 },
 "nbformat": 4,
 "nbformat_minor": 2
}
