{
 "cells": [
  {
   "cell_type": "markdown",
   "metadata": {},
   "source": [
    "# INTRODUCCION A PYTHON \n",
    "\n",
    " - ***Que es Python ?***\n",
    " Python es un lenguaje de programación de uso general utilizado para el desarrollo web, software, algoritmos de aprendizaje automático y mas. \n",
    "\n",
    "- **Características de Python**\n",
    "\t- Es de código abierto \n",
    "\t- Es fácil de aprender y tiene una sintaxis sencilla \n",
    "\t- Es portable, es decir, se puede ejecutar en muchas plataformas diferentes como Unix, Mac o Windows\n",
    "\t- es versátil y cuenta con múltiples librerías\n",
    "\t- Es un lenguaje interpretado, es decir, se ejecuta directamente el código línea por línea \n",
    "\t- Lenguaje de tipado dinámico\n",
    "\t- Un lenguaje de alto nivel \n",
    "\t- Un lenguaje orientado a objetos  \n",
    "\n",
    "- **Usos de Python**\n",
    "\t- Desarrollo web\n",
    "\t- Análisis de datos\n",
    "\t- Aprendizaje automático\n",
    "\t- Automatización\n",
    "\t- Ciencia de datos\n",
    "\t- Inteligencia artificial \n",
    "\t\n",
    "- **Que son las librerías en Python ?**\n",
    "Las librerías en Python con un conjunto de métodos y funciones y módulos que \tpermiten realizar tareas especificas sin necesidad de escribir código desde cero,\n",
    "Algunas de las librerías mas usadas por los desarrolladores son: \n",
    "\n",
    "\t- **Matplotlib**: utilizado para crear graficas de dos o tres dimensiones de alta calidad\n",
    "\t- **Pandas**: proporciona estructuras de datos optimizadas y flexibles que se pueden utilizar para manipular datos en series temporales y datos estructurados como tablas y matrices \n",
    "\t- **Numpy**: utilizado para crear y administrar matrices, manipular formas lógicas y efectuar operaciones de algebra lineal con facilidad\n",
    "\t- **Requests**: utilizado para enviar solicitudes HTTP, agregar encabezados, parámetros de URL y datos \n"
   ]
  }
 ],
 "metadata": {
  "language_info": {
   "name": "python"
  }
 },
 "nbformat": 4,
 "nbformat_minor": 2
}
