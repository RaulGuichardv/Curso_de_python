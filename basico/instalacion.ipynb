{
 "cells": [
  {
   "cell_type": "markdown",
   "metadata": {},
   "source": [
    "# INSTALACACION DE PYTHON EN WINDOWS\n",
    "\n",
    " - 1. Descargar Python\n",
    "\t \n",
    "\t\tve al sitio oficial de Python: \n",
    "\t\t[Instalar Python](https://www.python.org/downloads/)\n",
    "\t\t \n",
    "\t<br>\n",
    "\n",
    "- 2. Instalar Python en Windows\n",
    "\t- Descarga el instalador para Windows \n",
    "\t- Ábrelo y en la primera pantalla marca la opciones de *\"Add Python to PATH\"* \n",
    "\t- haz clic en install now  \n",
    "\t\n",
    "\t<br>\n",
    "\t\n",
    "- 3. Verificar la instalacion\n",
    "\t- Abre la terminal \n",
    "\n",
    "\t- Escribe\n",
    "\t\t`python --version`\n",
    "\t\to\n",
    "\t\t`python -v`\n",
    "\t- si ves algo como 3.x.x, la instalación fue exitosa "
   ]
  }
 ],
 "metadata": {
  "language_info": {
   "name": "python"
  }
 },
 "nbformat": 4,
 "nbformat_minor": 2
}
