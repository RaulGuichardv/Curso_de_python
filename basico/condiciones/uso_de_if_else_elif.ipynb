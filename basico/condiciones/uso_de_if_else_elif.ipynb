{
 "cells": [
  {
   "cell_type": "markdown",
   "metadata": {},
   "source": [
    "# Condiciones \n",
    "Las condiciones en Python permiten que se ejecuten diferentes bloques de codigo dependiendo de si una expresion booleana (`True`, `False`) se cumple o no \n",
    "\n",
    "### **Estructura de una condicion** <br>\n",
    "\n",
    "- `if condicion:` <br>\n",
    "    - Se ejecuta este bloque si la condicion es verdadera (`True`) <br>\n",
    "- `elif otra condicion:` <br>\n",
    "    - Se ejecuta si la primera condicion fue Falso (`False`), pero esta es verdadera (`True`) <br>\n",
    "- `else:` <br>\n",
    "    - Se ejecuta si ninguna de las condiciones anteriores es verdadera (`True`)"
   ]
  }
 ],
 "metadata": {
  "language_info": {
   "name": "python"
  }
 },
 "nbformat": 4,
 "nbformat_minor": 2
}
