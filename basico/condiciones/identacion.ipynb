{
 "cells": [
  {
   "cell_type": "markdown",
   "metadata": {},
   "source": [
    "# Identacion\n",
    "La identacion en Python es el espacio en blanco al inicio de una linea de codigo. Se usa para definir bloques de codigo en lugar de llevar `{}` como en otros lenguajes.\n",
    "<br>\n",
    "En Python la identacion no es opcional, es **obligatoria** y debe ser consistente\n",
    "\n",
    "### **Ejemplo de identacion**\n",
    "- `if True`: <br>\n",
    "    - `esta linea forma parte del bloque que corresponde al if` <br>\n",
    "\n",
    "- `esta linea no forma parte del bloque del if`"
   ]
  }
 ],
 "metadata": {
  "language_info": {
   "name": "python"
  }
 },
 "nbformat": 4,
 "nbformat_minor": 2
}
