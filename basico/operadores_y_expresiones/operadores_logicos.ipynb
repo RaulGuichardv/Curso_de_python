{
 "cells": [
  {
   "cell_type": "markdown",
   "metadata": {},
   "source": [
    "# Operadores logicos\n",
    "Los operadores logicos permiten combinar expresiones booleanas(True o False) para tomar decisiones mas complejas\n",
    "\n",
    "| Operaciones | Descripción | Ejemplos | Resultado |\n",
    "|--|--|--|--|\n",
    "| `and` | Devuelve `True` si ambas condiciones son `True` | `(2 > 1) and (3 > 2)` | `True`\n",
    "| `or` | Devuelve `True` si al menos una condición es `True` | `(3 == 3) or (4 == 1)` | `True` \n",
    "| `not` | Invierte el valor de `True` a `False` y viceversa | `not (5 > 3)`| `False`"
   ]
  }
 ],
 "metadata": {
  "language_info": {
   "name": "python"
  }
 },
 "nbformat": 4,
 "nbformat_minor": 2
}
