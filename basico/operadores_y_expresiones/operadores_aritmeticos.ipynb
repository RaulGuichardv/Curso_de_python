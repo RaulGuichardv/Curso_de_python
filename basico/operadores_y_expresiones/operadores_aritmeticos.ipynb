{
 "cells": [
  {
   "cell_type": "markdown",
   "metadata": {},
   "source": [
    "# Operadores aritmeticos\n",
    "En Python los operadores aritmeticos permiten realizar operaciones matematicas basicas\n",
    "\n",
    "| Operaciones | Descripción | Ejemplos | Resultado |\n",
    "|--|--|--|--|\n",
    "| + | Suma | 2 + 2 | 4 |\n",
    "| - | Resta | 2 - 2 | 0 |\n",
    "| * | Multiplicación | 2 * 2 | 4\n",
    "| / | División con decimal | 7 / 2 | 3.5 \n",
    "| // | División entera | 7 / 2 | 3 \n",
    "| % | Residuo | 10 % 3 | 1\n",
    "| ** | Potencia | 2 ** 3 | 8\n",
    "\n",
    "### Procedencia de operaciones\n",
    "Python evalua las operaciones siguiendo reglas de prioridad\n",
    "\n",
    "- 1. Parentecis `()`\n",
    "- 2. Exponentes `**`\n",
    "- 3. Multiplicación, División y Residuo `*`, `/`, `//`, `%`\n",
    "- 4. Suma y Resta `+`, `-` "
   ]
  }
 ],
 "metadata": {
  "language_info": {
   "name": "python"
  }
 },
 "nbformat": 4,
 "nbformat_minor": 2
}
