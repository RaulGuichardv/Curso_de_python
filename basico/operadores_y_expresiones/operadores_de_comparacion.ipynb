{
 "cells": [
  {
   "cell_type": "markdown",
   "metadata": {},
   "source": [
    "# Operadores de comparacion\n",
    "Los operadores de comparacion se utilizan para comparar dos valores y devuelde un valor booleano (True, False)\n",
    "\n",
    "| Operaciones | Descripción | Ejemplos | Resultado |\n",
    "|--|--|--|--|\n",
    "| `==` | Igual a | `2 == 2` | `True`\n",
    "| `!=` | Diferente de | `1 != 2` | `True` \n",
    "| `>` | Mayor que | `3 > 2` | `True`\n",
    "| `<` | Menor que | `2 < 3` | `True`\n",
    "| `>=` | Mayor o igual que | `2 >= 2` | `True`  \n",
    "| `<=` | Menor o igual que | `2 <= 4` | `True`\n"
   ]
  }
 ],
 "metadata": {
  "language_info": {
   "name": "python"
  }
 },
 "nbformat": 4,
 "nbformat_minor": 2
}
